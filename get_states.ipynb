{
 "cells": [
  {
   "cell_type": "code",
   "execution_count": 2,
   "metadata": {},
   "outputs": [],
   "source": [
    "from datetime import datetime, timedelta\n",
    "from opensky_api import OpenSkyApi\n",
    "import pandas as pd\n",
    "import time\n",
    "import sys\n",
    "import os\n",
    "api = OpenSkyApi()"
   ]
  },
  {
   "cell_type": "code",
   "execution_count": 6,
   "metadata": {},
   "outputs": [],
   "source": [
    "def get_states(date_selection):\n",
    "    states = api.get_states()\n",
    "    df = pd.DataFrame([vars(o) for o in states.states])\n",
    "    df.to_csv(f'data/get_states/{date_selection}/csv/{datetime.now().isoformat()}.csv')\n",
    "    \n",
    "def mk_directory_structure(date_selection):\n",
    "    if os.path.isdir(f'{sys.path[0]}/data/get_states/{date_selection}') == False:\n",
    "        os.mkdir(f'{sys.path[0]}/data/get_states/{date_selection}')\n",
    "        os.mkdir(f'{sys.path[0]}/data/get_states/{date_selection}/csv')\n",
    "        os.mkdir(f'{sys.path[0]}/data/get_states/{date_selection}/images')\n",
    "        os.mkdir(f'{sys.path[0]}/data/get_states/{date_selection}/images/eu')\n",
    "        os.mkdir(f'{sys.path[0]}/data/get_states/{date_selection}/images/us')"
   ]
  },
  {
   "cell_type": "code",
   "execution_count": null,
   "metadata": {},
   "outputs": [],
   "source": [
    "date_selection = datetime.today().strftime('%Y-%m-%d') \n",
    "for i in range(1000):\n",
    "    get_states(date_selection)\n",
    "    print(f'State {i} | Saved on: {datetime.now().isoformat()} ...')\n",
    "    time.sleep(60)"
   ]
  }
 ],
 "metadata": {
  "kernelspec": {
   "display_name": "venv",
   "language": "python",
   "name": "python3"
  },
  "language_info": {
   "codemirror_mode": {
    "name": "ipython",
    "version": 3
   },
   "file_extension": ".py",
   "mimetype": "text/x-python",
   "name": "python",
   "nbconvert_exporter": "python",
   "pygments_lexer": "ipython3",
   "version": "3.11.9"
  }
 },
 "nbformat": 4,
 "nbformat_minor": 2
}
