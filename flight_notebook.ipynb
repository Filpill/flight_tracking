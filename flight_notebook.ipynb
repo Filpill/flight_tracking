{
 "cells": [
  {
   "cell_type": "code",
   "execution_count": 117,
   "metadata": {},
   "outputs": [],
   "source": [
    "from datetime import datetime, timedelta\n",
    "from opensky_api import OpenSkyApi\n",
    "import pandas as pd\n",
    "import time\n",
    "api = OpenSkyApi()"
   ]
  },
  {
   "cell_type": "code",
   "execution_count": 115,
   "metadata": {},
   "outputs": [],
   "source": [
    "def get_states():\n",
    "    states = api.get_states()\n",
    "    df = pd.DataFrame([vars(o) for o in states.states])\n",
    "    df.to_csv(f'data/get_states/states_{datetime.now().isoformat()}.csv')\n",
    "    \n",
    "for i in range(1000):\n",
    "    get_states()\n",
    "    print(f'State {i} | Saved on: {datetime.now().isoformat()} ...')\n",
    "    time.sleep(60)"
   ]
  },
  {
   "cell_type": "code",
   "execution_count": null,
   "metadata": {},
   "outputs": [],
   "source": [
    "# Selecting Day Time Parameters\n",
    "day = 25\n",
    "month = 4\n",
    "year = 2024\n",
    "start_dt = datetime(year,month,day,0,0,0,0)\n",
    "end_dt = datetime(year,month,day,2,0,0,0)\n",
    "\n",
    "# Function To Get Flight Data\n",
    "def get_flights(start_dt,end_dt):\n",
    "    unix_start = int(start_dt.timestamp())\n",
    "    unix_end   = int(end_dt.timestamp())\n",
    "    data = api.get_flights_from_interval(unix_start, unix_end)\n",
    "    df = pd.DataFrame([vars(o) for o in data])\n",
    "    df.to_csv(f'data/get_flights/flights_{start_dt.isoformat()}.csv')\n",
    "    return df\n",
    "\n",
    "# The Get Flight Details By Interval Method Limited To 2 Hours Max\n",
    "# Incrementing API Call By 2 Hours to Retrieve Data\n",
    "for i in range(-2,12):\n",
    "    print(f'2 Hour Flight Volume | Captured From: {start_dt.isoformat()} ...')\n",
    "    start_dt = start_dt + timedelta(hours=i+2)\n",
    "    end_dt   = end_dt   + timedelta(hours=i+2)\n",
    "    get_flights(start_dt,end_dt)\n",
    "    time.sleep(10)"
   ]
  }
 ],
 "metadata": {
  "kernelspec": {
   "display_name": "venv",
   "language": "python",
   "name": "python3"
  },
  "language_info": {
   "codemirror_mode": {
    "name": "ipython",
    "version": 3
   },
   "file_extension": ".py",
   "mimetype": "text/x-python",
   "name": "python",
   "nbconvert_exporter": "python",
   "pygments_lexer": "ipython3",
   "version": "3.11.8"
  }
 },
 "nbformat": 4,
 "nbformat_minor": 2
}
