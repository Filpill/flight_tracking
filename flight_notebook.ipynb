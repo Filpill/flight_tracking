{
 "cells": [
  {
   "cell_type": "code",
   "execution_count": 1,
   "metadata": {},
   "outputs": [],
   "source": [
    "from datetime import datetime, timedelta\n",
    "from opensky_api import OpenSkyApi\n",
    "import pandas as pd\n",
    "import time\n",
    "api = OpenSkyApi()"
   ]
  },
  {
   "cell_type": "code",
   "execution_count": 2,
   "metadata": {},
   "outputs": [
    {
     "name": "stdout",
     "output_type": "stream",
     "text": [
      "State 0 | Saved on: 2024-04-28T13:46:05.582825 ...\n",
      "State 1 | Saved on: 2024-04-28T13:47:06.449523 ...\n",
      "State 2 | Saved on: 2024-04-28T13:48:07.523789 ...\n",
      "State 3 | Saved on: 2024-04-28T13:49:08.220398 ...\n",
      "State 4 | Saved on: 2024-04-28T13:50:09.074880 ...\n",
      "State 5 | Saved on: 2024-04-28T13:51:09.891581 ...\n",
      "State 6 | Saved on: 2024-04-28T13:52:10.628954 ...\n",
      "State 7 | Saved on: 2024-04-28T13:53:11.455244 ...\n",
      "State 8 | Saved on: 2024-04-28T13:54:12.212616 ...\n",
      "State 9 | Saved on: 2024-04-28T13:55:13.197989 ...\n",
      "State 10 | Saved on: 2024-04-28T13:56:14.141367 ...\n",
      "State 11 | Saved on: 2024-04-28T13:57:14.896346 ...\n",
      "State 12 | Saved on: 2024-04-28T13:58:15.795208 ...\n",
      "State 13 | Saved on: 2024-04-28T13:59:16.781931 ...\n",
      "State 14 | Saved on: 2024-04-28T14:00:17.544825 ...\n",
      "State 15 | Saved on: 2024-04-28T14:01:18.437676 ...\n",
      "State 16 | Saved on: 2024-04-28T14:02:19.329992 ...\n",
      "State 17 | Saved on: 2024-04-28T14:03:20.278201 ...\n",
      "State 18 | Saved on: 2024-04-28T14:04:21.157950 ...\n",
      "State 19 | Saved on: 2024-04-28T14:05:22.017532 ...\n",
      "State 20 | Saved on: 2024-04-28T14:06:22.842521 ...\n",
      "State 21 | Saved on: 2024-04-28T14:07:23.667852 ...\n",
      "State 22 | Saved on: 2024-04-28T14:08:24.516082 ...\n",
      "State 23 | Saved on: 2024-04-28T14:09:25.457786 ...\n",
      "State 24 | Saved on: 2024-04-28T14:10:26.305024 ...\n",
      "State 25 | Saved on: 2024-04-28T14:11:27.068999 ...\n",
      "State 26 | Saved on: 2024-04-28T14:12:27.952673 ...\n",
      "State 27 | Saved on: 2024-04-28T14:13:28.843996 ...\n",
      "State 28 | Saved on: 2024-04-28T14:14:29.692743 ...\n",
      "State 29 | Saved on: 2024-04-28T14:15:30.415048 ...\n",
      "State 30 | Saved on: 2024-04-28T14:16:31.303069 ...\n",
      "State 31 | Saved on: 2024-04-28T14:17:32.227194 ...\n",
      "State 32 | Saved on: 2024-04-28T14:18:33.123130 ...\n",
      "State 33 | Saved on: 2024-04-28T14:19:34.088061 ...\n",
      "State 34 | Saved on: 2024-04-28T14:20:34.939463 ...\n",
      "State 35 | Saved on: 2024-04-28T14:21:35.866104 ...\n",
      "State 36 | Saved on: 2024-04-28T14:22:36.643485 ...\n",
      "State 37 | Saved on: 2024-04-28T14:23:37.373790 ...\n",
      "State 38 | Saved on: 2024-04-28T14:24:38.376521 ...\n",
      "State 39 | Saved on: 2024-04-28T14:25:39.153651 ...\n",
      "State 40 | Saved on: 2024-04-28T14:26:39.929153 ...\n",
      "State 41 | Saved on: 2024-04-28T14:27:40.918847 ...\n",
      "State 42 | Saved on: 2024-04-28T14:28:41.952382 ...\n",
      "State 43 | Saved on: 2024-04-28T14:29:42.874200 ...\n",
      "State 44 | Saved on: 2024-04-28T14:30:43.746493 ...\n",
      "State 45 | Saved on: 2024-04-28T14:31:44.543476 ...\n",
      "State 46 | Saved on: 2024-04-28T14:32:45.399691 ...\n",
      "State 47 | Saved on: 2024-04-28T14:33:46.260226 ...\n",
      "State 48 | Saved on: 2024-04-28T14:34:47.165617 ...\n",
      "State 49 | Saved on: 2024-04-28T14:35:47.939303 ...\n",
      "State 50 | Saved on: 2024-04-28T14:36:48.703252 ...\n",
      "State 51 | Saved on: 2024-04-28T14:37:49.595219 ...\n",
      "State 52 | Saved on: 2024-04-28T14:38:50.385044 ...\n",
      "State 53 | Saved on: 2024-04-28T14:39:51.103950 ...\n",
      "State 54 | Saved on: 2024-04-28T14:40:52.333181 ...\n",
      "State 55 | Saved on: 2024-04-28T14:41:53.258096 ...\n",
      "State 56 | Saved on: 2024-04-28T14:42:54.135388 ...\n",
      "State 57 | Saved on: 2024-04-28T14:43:55.032207 ...\n",
      "State 58 | Saved on: 2024-04-28T14:44:55.903094 ...\n",
      "State 59 | Saved on: 2024-04-28T14:45:56.806150 ...\n",
      "State 60 | Saved on: 2024-04-28T14:46:57.623850 ...\n",
      "State 61 | Saved on: 2024-04-28T14:47:58.399065 ...\n",
      "State 62 | Saved on: 2024-04-28T14:48:59.271765 ...\n",
      "State 63 | Saved on: 2024-04-28T14:50:00.202702 ...\n",
      "State 64 | Saved on: 2024-04-28T14:51:01.165838 ...\n",
      "State 65 | Saved on: 2024-04-28T14:52:02.080414 ...\n",
      "State 66 | Saved on: 2024-04-28T14:53:02.992840 ...\n",
      "State 67 | Saved on: 2024-04-28T14:54:03.688671 ...\n",
      "State 68 | Saved on: 2024-04-28T14:55:04.549754 ...\n",
      "State 69 | Saved on: 2024-04-28T14:56:06.009763 ...\n",
      "State 70 | Saved on: 2024-04-28T14:57:07.082306 ...\n",
      "State 71 | Saved on: 2024-04-28T14:58:07.778684 ...\n"
     ]
    },
    {
     "ename": "AttributeError",
     "evalue": "'NoneType' object has no attribute 'states'",
     "output_type": "error",
     "traceback": [
      "\u001b[0;31m---------------------------------------------------------------------------\u001b[0m",
      "\u001b[0;31mAttributeError\u001b[0m                            Traceback (most recent call last)",
      "\u001b[1;32m/home/filpill/work/flight_tracking/flight_notebook.ipynb Cell 2\u001b[0m line \u001b[0;36m7\n\u001b[1;32m      <a href='vscode-notebook-cell:/home/filpill/work/flight_tracking/flight_notebook.ipynb#W1sZmlsZQ%3D%3D?line=3'>4</a>\u001b[0m     df\u001b[39m.\u001b[39mto_csv(\u001b[39mf\u001b[39m\u001b[39m'\u001b[39m\u001b[39mdata/get_states/2024-04-28/\u001b[39m\u001b[39m{\u001b[39;00mdatetime\u001b[39m.\u001b[39mnow()\u001b[39m.\u001b[39misoformat()\u001b[39m}\u001b[39;00m\u001b[39m.csv\u001b[39m\u001b[39m'\u001b[39m)\n\u001b[1;32m      <a href='vscode-notebook-cell:/home/filpill/work/flight_tracking/flight_notebook.ipynb#W1sZmlsZQ%3D%3D?line=5'>6</a>\u001b[0m \u001b[39mfor\u001b[39;00m i \u001b[39min\u001b[39;00m \u001b[39mrange\u001b[39m(\u001b[39m1000\u001b[39m):\n\u001b[0;32m----> <a href='vscode-notebook-cell:/home/filpill/work/flight_tracking/flight_notebook.ipynb#W1sZmlsZQ%3D%3D?line=6'>7</a>\u001b[0m     get_states()\n\u001b[1;32m      <a href='vscode-notebook-cell:/home/filpill/work/flight_tracking/flight_notebook.ipynb#W1sZmlsZQ%3D%3D?line=7'>8</a>\u001b[0m     \u001b[39mprint\u001b[39m(\u001b[39mf\u001b[39m\u001b[39m'\u001b[39m\u001b[39mState \u001b[39m\u001b[39m{\u001b[39;00mi\u001b[39m}\u001b[39;00m\u001b[39m | Saved on: \u001b[39m\u001b[39m{\u001b[39;00mdatetime\u001b[39m.\u001b[39mnow()\u001b[39m.\u001b[39misoformat()\u001b[39m}\u001b[39;00m\u001b[39m ...\u001b[39m\u001b[39m'\u001b[39m)\n\u001b[1;32m      <a href='vscode-notebook-cell:/home/filpill/work/flight_tracking/flight_notebook.ipynb#W1sZmlsZQ%3D%3D?line=8'>9</a>\u001b[0m     time\u001b[39m.\u001b[39msleep(\u001b[39m60\u001b[39m)\n",
      "\u001b[1;32m/home/filpill/work/flight_tracking/flight_notebook.ipynb Cell 2\u001b[0m line \u001b[0;36m3\n\u001b[1;32m      <a href='vscode-notebook-cell:/home/filpill/work/flight_tracking/flight_notebook.ipynb#W1sZmlsZQ%3D%3D?line=0'>1</a>\u001b[0m \u001b[39mdef\u001b[39;00m \u001b[39mget_states\u001b[39m():\n\u001b[1;32m      <a href='vscode-notebook-cell:/home/filpill/work/flight_tracking/flight_notebook.ipynb#W1sZmlsZQ%3D%3D?line=1'>2</a>\u001b[0m     states \u001b[39m=\u001b[39m api\u001b[39m.\u001b[39mget_states()\n\u001b[0;32m----> <a href='vscode-notebook-cell:/home/filpill/work/flight_tracking/flight_notebook.ipynb#W1sZmlsZQ%3D%3D?line=2'>3</a>\u001b[0m     df \u001b[39m=\u001b[39m pd\u001b[39m.\u001b[39mDataFrame([\u001b[39mvars\u001b[39m(o) \u001b[39mfor\u001b[39;00m o \u001b[39min\u001b[39;00m states\u001b[39m.\u001b[39;49mstates])\n\u001b[1;32m      <a href='vscode-notebook-cell:/home/filpill/work/flight_tracking/flight_notebook.ipynb#W1sZmlsZQ%3D%3D?line=3'>4</a>\u001b[0m     df\u001b[39m.\u001b[39mto_csv(\u001b[39mf\u001b[39m\u001b[39m'\u001b[39m\u001b[39mdata/get_states/2024-04-28/\u001b[39m\u001b[39m{\u001b[39;00mdatetime\u001b[39m.\u001b[39mnow()\u001b[39m.\u001b[39misoformat()\u001b[39m}\u001b[39;00m\u001b[39m.csv\u001b[39m\u001b[39m'\u001b[39m)\n",
      "\u001b[0;31mAttributeError\u001b[0m: 'NoneType' object has no attribute 'states'"
     ]
    }
   ],
   "source": [
    "def get_states():\n",
    "    states = api.get_states()\n",
    "    df = pd.DataFrame([vars(o) for o in states.states])\n",
    "    df.to_csv(f'data/get_states/2024-04-28/{datetime.now().isoformat()}.csv')\n",
    "    \n",
    "for i in range(1000):\n",
    "    get_states()\n",
    "    print(f'State {i} | Saved on: {datetime.now().isoformat()} ...')\n",
    "    time.sleep(60)"
   ]
  },
  {
   "cell_type": "code",
   "execution_count": null,
   "metadata": {},
   "outputs": [],
   "source": [
    "# Selecting Day Time Parameters\n",
    "day = 25\n",
    "month = 4\n",
    "year = 2024\n",
    "start_dt = datetime(year,month,day,0,0,0,0)\n",
    "end_dt = datetime(year,month,day,2,0,0,0)\n",
    "\n",
    "# Function To Get Flight Data\n",
    "def get_flights(start_dt,end_dt):\n",
    "    unix_start = int(start_dt.timestamp())\n",
    "    unix_end   = int(end_dt.timestamp())\n",
    "    data = api.get_flights_from_interval(unix_start, unix_end)\n",
    "    df = pd.DataFrame([vars(o) for o in data])\n",
    "    df.to_csv(f'data/get_flights/{start_dt.isoformat()}.csv')\n",
    "    return df\n",
    "\n",
    "# The Get Flight Details By Interval Method Limited To 2 Hours Max\n",
    "# Incrementing API Call By 2 Hours to Retrieve Data\n",
    "for i in range(-2,12):\n",
    "    print(f'2 Hour Flight Volume | Captured From: {start_dt.isoformat()} ...')\n",
    "    start_dt = start_dt + timedelta(hours=i+2)\n",
    "    end_dt   = end_dt   + timedelta(hours=i+2)\n",
    "    get_flights(start_dt,end_dt)\n",
    "    time.sleep(10)"
   ]
  }
 ],
 "metadata": {
  "kernelspec": {
   "display_name": "venv",
   "language": "python",
   "name": "python3"
  },
  "language_info": {
   "codemirror_mode": {
    "name": "ipython",
    "version": 3
   },
   "file_extension": ".py",
   "mimetype": "text/x-python",
   "name": "python",
   "nbconvert_exporter": "python",
   "pygments_lexer": "ipython3",
   "version": "3.11.9"
  }
 },
 "nbformat": 4,
 "nbformat_minor": 2
}
