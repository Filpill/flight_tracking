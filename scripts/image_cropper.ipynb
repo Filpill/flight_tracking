{
 "cells": [
  {
   "cell_type": "code",
   "execution_count": 1,
   "metadata": {},
   "outputs": [],
   "source": [
    "import os\n",
    "import sys\n",
    "from PIL import Image\n",
    "import matplotlib.pyplot as plt"
   ]
  },
  {
   "cell_type": "code",
   "execution_count": 2,
   "metadata": {},
   "outputs": [],
   "source": [
    "date_selection = '2024-05-05'\n",
    "folder = 'scatter'\n",
    "image_folder = f'{os.path.dirname(sys.path[0])}/data/get_states/{date_selection}/gaussian_kde'"
   ]
  },
  {
   "cell_type": "code",
   "execution_count": 3,
   "metadata": {},
   "outputs": [],
   "source": [
    "for file in sorted(os.listdir(image_folder)):\n",
    "    if '.png' in file:\n",
    "        image = Image.open(f'{image_folder}/{file}')\n",
    "        image = image.crop((370,270,2910,1535))\n",
    "        image.save(f'{image_folder}/crop/{file}',format='png')\n",
    "        # image.show()\n",
    "    # break"
   ]
  }
 ],
 "metadata": {
  "kernelspec": {
   "display_name": "carto",
   "language": "python",
   "name": "python3"
  },
  "language_info": {
   "codemirror_mode": {
    "name": "ipython",
    "version": 3
   },
   "file_extension": ".py",
   "mimetype": "text/x-python",
   "name": "python",
   "nbconvert_exporter": "python",
   "pygments_lexer": "ipython3",
   "version": "3.11.9"
  }
 },
 "nbformat": 4,
 "nbformat_minor": 2
}
