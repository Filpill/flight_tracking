{
 "cells": [
  {
   "cell_type": "code",
   "execution_count": 163,
   "metadata": {},
   "outputs": [],
   "source": [
    "from datetime import datetime, timedelta\n",
    "from scrapingbee import ScrapingBeeClient\n",
    "from opensky_api import OpenSkyApi\n",
    "from opensky_api import OpenSkyStates\n",
    "import pandas as pd\n",
    "import requests\n",
    "import random\n",
    "import json\n",
    "import time\n",
    "import sys\n",
    "import os\n",
    "api = OpenSkyApi()\n"
   ]
  },
  {
   "cell_type": "code",
   "execution_count": 164,
   "metadata": {},
   "outputs": [],
   "source": [
    "# OxyLabs Credentials\n",
    "with open(f'{sys.path[0]}/keys/oxylabs.key', 'r') as f:\n",
    "    creds = f.read().strip().split(' ')\n",
    "    USERNAME = creds[0]\n",
    "    PASSWORD = creds[1]"
   ]
  },
  {
   "cell_type": "code",
   "execution_count": 190,
   "metadata": {},
   "outputs": [],
   "source": [
    "def get_states(USERNAME,PASSWORD):\n",
    "    payload = {\n",
    "        \"source\": \"universal\",\n",
    "        \"url\": \"https://opensky-network.org/api/states/all\",\n",
    "        \"geo_location\": \"United Kingdom\"\n",
    "    }\n",
    "    \n",
    "    # Using Oxylabs to supply proxy IP Address to API Request\n",
    "    response =  requests.request(\n",
    "            \"POST\", \"https://realtime.oxylabs.io/v1/queries\",\n",
    "            auth = (USERNAME,PASSWORD),\n",
    "            json = payload\n",
    "    )\n",
    "    response = response.json()['results'][0]['content']\n",
    "    return response\n",
    "\n",
    "def json_to_df(response,date_selection):\n",
    "    states=OpenSkyStates(json.loads(response))\n",
    "    df = pd.DataFrame([vars(o) for o in states.states])\n",
    "    df.to_csv(f'{os.path.dirname(sys.path[0])}/data/get_states/{date_selection}/csv/{datetime.now().isoformat()}.csv')    \n",
    "\n",
    "def mk_directory_structure(date_selection):\n",
    "    if os.path.exists(f'{os.path.dirname(sys.path[0])}/data/get_states/{date_selection}') == False:\n",
    "        os.mkdir(f'{os.path.dirname(sys.path[0])}/data/get_states/{date_selection}')\n",
    "        os.mkdir(f'{os.path.dirname(sys.path[0])}/data/get_states/{date_selection}/csv')\n",
    "        os.mkdir(f'{os.path.dirname(sys.path[0])}/data/get_states/{date_selection}/images')\n",
    "        os.mkdir(f'{os.path.dirname(sys.path[0])}/data/get_states/{date_selection}/images/eu')\n",
    "        os.mkdir(f'{os.path.dirname(sys.path[0])}/data/get_states/{date_selection}/images/us')"
   ]
  },
  {
   "cell_type": "code",
   "execution_count": 191,
   "metadata": {},
   "outputs": [
    {
     "name": "stdout",
     "output_type": "stream",
     "text": [
      "State 0 | Saved on: 2024-05-05T20:14:36.741960 ...\n"
     ]
    }
   ],
   "source": [
    "date_selection = datetime.today().strftime('%Y-%m-%d') \n",
    "mk_directory_structure(date_selection)\n",
    "for i in range(1000):\n",
    "    try:\n",
    "        response = get_states(USERNAME,PASSWORD)\n",
    "        json_to_df(response,date_selection)\n",
    "        print(f'State {i} | Saved on: {datetime.now().isoformat()} ...')\n",
    "        time.sleep(60)\n",
    "    except:\n",
    "        print(f'State {i} | Returned Error ...')\n",
    "        time.sleep(10)"
   ]
  }
 ],
 "metadata": {
  "kernelspec": {
   "display_name": "venv",
   "language": "python",
   "name": "python3"
  },
  "language_info": {
   "codemirror_mode": {
    "name": "ipython",
    "version": 3
   },
   "file_extension": ".py",
   "mimetype": "text/x-python",
   "name": "python",
   "nbconvert_exporter": "python",
   "pygments_lexer": "ipython3",
   "version": "3.11.9"
  }
 },
 "nbformat": 4,
 "nbformat_minor": 2
}
